{
 "cells": [
  {
   "cell_type": "markdown",
   "metadata": {},
   "source": [
    "### AI Judge to score compositions"
   ]
  },
  {
   "cell_type": "markdown",
   "metadata": {},
   "source": [
    "This notebook uses the pre-trained model stored in this repository and the inference code to score compositions based on their similarity to Bach music. The overview of the notebook is below - \n",
    "1. Read input melodies from S3. Skip this step if you already have the input melodies that need to be scored in this local folder\n",
    "2. Run inference on the input folder\n",
    "3. Read results and sort them to find the winners!\n",
    "\n",
    "_Note:\n",
    "The inference code requires PyTorch, install it or use a pytorch kernel on SageMaker_"
   ]
  },
  {
   "cell_type": "code",
   "execution_count": null,
   "metadata": {},
   "outputs": [],
   "source": [
    "%%capture\n",
    "# install required packages\n",
    "!pip install pypianoroll"
   ]
  },
  {
   "cell_type": "code",
   "execution_count": null,
   "metadata": {},
   "outputs": [],
   "source": [
    "import os\n",
    "import boto3\n",
    "s3 = boto3.client('s3')"
   ]
  },
  {
   "cell_type": "code",
   "execution_count": null,
   "metadata": {},
   "outputs": [],
   "source": [
    "bucket_name = '<bucket where .mid files are stored'\n",
    "\n",
    "response = s3.list_objects_v2(Bucket=bucket_name)\n",
    "# if storing the .mid files inside a prefix, mention the prefix like below-\n",
    "# response = s3.list_objects_v2(Bucket=bucket_name, Prefix=prefix)\n",
    "\n",
    "# download files locally\n",
    "os.mkdir('input-folder')\n",
    "for content in response['Contents']:\n",
    "    s3.download_file(\n",
    "        bucket_name,\n",
    "        content['Key'],\n",
    "        f\"input-folder/{content['Key']}\"\n",
    "    )"
   ]
  },
  {
   "cell_type": "code",
   "execution_count": null,
   "metadata": {
    "scrolled": true
   },
   "outputs": [],
   "source": [
    "# run inference\n",
    "os.mkdir('results')\n",
    "!python inference.py --midi_folder input-folder/ --save_path results/"
   ]
  },
  {
   "cell_type": "code",
   "execution_count": null,
   "metadata": {
    "scrolled": true
   },
   "outputs": [],
   "source": [
    "# read results\n",
    "import pickle\n",
    "import pandas as pd\n",
    "\n",
    "results = pickle.load(open('results/score_results.p', 'rb'))\n",
    "results_df = pd.DataFrame.from_dict(results, orient='index')\n",
    "results_df = results_df.reset_index()\n",
    "results_df.columns=['Composer', 'Score']\n",
    "results_df.sort_values(by='Score', ascending=False)\n",
    "\n",
    "# Pick the first 'n' scores based on the number of winners for the challenge"
   ]
  },
  {
   "cell_type": "code",
   "execution_count": null,
   "metadata": {},
   "outputs": [],
   "source": []
  }
 ],
 "metadata": {
  "kernelspec": {
   "display_name": "Python 3",
   "language": "python",
   "name": "python3"
  },
  "language_info": {
   "codemirror_mode": {
    "name": "ipython",
    "version": 3
   },
   "file_extension": ".py",
   "mimetype": "text/x-python",
   "name": "python",
   "nbconvert_exporter": "python",
   "pygments_lexer": "ipython3",
   "version": "3.7.4"
  }
 },
 "nbformat": 4,
 "nbformat_minor": 5
}
